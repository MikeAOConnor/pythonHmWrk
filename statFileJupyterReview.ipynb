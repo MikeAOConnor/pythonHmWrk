{
 "metadata": {
  "language_info": {
   "codemirror_mode": {
    "name": "ipython",
    "version": 3
   },
   "file_extension": ".py",
   "mimetype": "text/x-python",
   "name": "python",
   "nbconvert_exporter": "python",
   "pygments_lexer": "ipython3",
   "version": "2.7.18-final"
  },
  "orig_nbformat": 2,
  "kernelspec": {
   "name": "python271864bita4998992760a42e9bf56c0b965099a84",
   "display_name": "Python 2.7.18 64-bit"
  }
 },
 "nbformat": 4,
 "nbformat_minor": 2,
 "cells": [
  {
   "cell_type": "code",
   "execution_count": 35,
   "metadata": {},
   "outputs": [],
   "source": [
    "import numpy as np \n",
    "import pandas as pd \n",
    "from tabulate import tabulate\n"
   ]
  },
  {
   "cell_type": "code",
   "execution_count": 36,
   "metadata": {},
   "outputs": [],
   "source": [
    "statFile_df = pd.read_excel('D:\\\\Users\\\\michael.oconnor\\\\q1\\\\q1_2020addtnlClaims2Unzip\\\\T1MD0568_stat_py2020_Q1.xlsx')\n",
    "# ('D:\\\\Users\\\\michael.oconnor\\\\q1\\\\q1_2020addtnlClaims3Unzip\\\\T1MD0641_stat_py2020_Q1.xlsx')\n",
    "\n",
    "# ('D:\\\\Users\\\\michael.oconnor\\\\q2\\\\allClaimsUnzipped\\\\T1MD0370_stat_py2020_Q2.xlsx')"
   ]
  },
  {
   "cell_type": "code",
   "execution_count": 37,
   "metadata": {},
   "outputs": [
    {
     "output_type": "execute_result",
     "data": {
      "text/plain": "                   File_Name  Num_Variables  Num_Records\n0  T1MD0568_ptaclm_py2020_Q1            255         8421\n1  T1MD0568_ptarev_py2020_Q1             59        82623\n2  T1MD0568_ptaprc_py2020_Q1             13         1640\n3  T1MD0568_ptadgn_py2020_Q1             13        50417\n4  T1MD0568_ptbphy_py2020_Q1            136       293380",
      "text/html": "<div>\n<style scoped>\n    .dataframe tbody tr th:only-of-type {\n        vertical-align: middle;\n    }\n\n    .dataframe tbody tr th {\n        vertical-align: top;\n    }\n\n    .dataframe thead th {\n        text-align: right;\n    }\n</style>\n<table border=\"1\" class=\"dataframe\">\n  <thead>\n    <tr style=\"text-align: right;\">\n      <th></th>\n      <th>File_Name</th>\n      <th>Num_Variables</th>\n      <th>Num_Records</th>\n    </tr>\n  </thead>\n  <tbody>\n    <tr>\n      <th>0</th>\n      <td>T1MD0568_ptaclm_py2020_Q1</td>\n      <td>255</td>\n      <td>8421</td>\n    </tr>\n    <tr>\n      <th>1</th>\n      <td>T1MD0568_ptarev_py2020_Q1</td>\n      <td>59</td>\n      <td>82623</td>\n    </tr>\n    <tr>\n      <th>2</th>\n      <td>T1MD0568_ptaprc_py2020_Q1</td>\n      <td>13</td>\n      <td>1640</td>\n    </tr>\n    <tr>\n      <th>3</th>\n      <td>T1MD0568_ptadgn_py2020_Q1</td>\n      <td>13</td>\n      <td>50417</td>\n    </tr>\n    <tr>\n      <th>4</th>\n      <td>T1MD0568_ptbphy_py2020_Q1</td>\n      <td>136</td>\n      <td>293380</td>\n    </tr>\n  </tbody>\n</table>\n</div>"
     },
     "metadata": {},
     "execution_count": 37
    }
   ],
   "source": [
    "statFile_df.head()"
   ]
  },
  {
   "cell_type": "code",
   "execution_count": 38,
   "metadata": {
    "tags": []
   },
   "outputs": [
    {
     "output_type": "execute_result",
     "data": {
      "text/plain": "                   File_Name  Num_Variables  Num_Records\n5  T1MD0568_ptbdme_py2020_Q1            134        15505\n6     T1MD0568_ptd_py2020_Q1             21        75800\n7   T1MD0568_bened_py2020_Q1            476         1687\n8     T1MD0568_mds_py2020_Q1            670          705\n9   T1MD0568_oasis_py2020_Q1            595          663",
      "text/html": "<div>\n<style scoped>\n    .dataframe tbody tr th:only-of-type {\n        vertical-align: middle;\n    }\n\n    .dataframe tbody tr th {\n        vertical-align: top;\n    }\n\n    .dataframe thead th {\n        text-align: right;\n    }\n</style>\n<table border=\"1\" class=\"dataframe\">\n  <thead>\n    <tr style=\"text-align: right;\">\n      <th></th>\n      <th>File_Name</th>\n      <th>Num_Variables</th>\n      <th>Num_Records</th>\n    </tr>\n  </thead>\n  <tbody>\n    <tr>\n      <th>5</th>\n      <td>T1MD0568_ptbdme_py2020_Q1</td>\n      <td>134</td>\n      <td>15505</td>\n    </tr>\n    <tr>\n      <th>6</th>\n      <td>T1MD0568_ptd_py2020_Q1</td>\n      <td>21</td>\n      <td>75800</td>\n    </tr>\n    <tr>\n      <th>7</th>\n      <td>T1MD0568_bened_py2020_Q1</td>\n      <td>476</td>\n      <td>1687</td>\n    </tr>\n    <tr>\n      <th>8</th>\n      <td>T1MD0568_mds_py2020_Q1</td>\n      <td>670</td>\n      <td>705</td>\n    </tr>\n    <tr>\n      <th>9</th>\n      <td>T1MD0568_oasis_py2020_Q1</td>\n      <td>595</td>\n      <td>663</td>\n    </tr>\n  </tbody>\n</table>\n</div>"
     },
     "metadata": {},
     "execution_count": 38
    }
   ],
   "source": [
    "statFile_df.tail()\n"
   ]
  },
  {
   "cell_type": "code",
   "execution_count": 39,
   "metadata": {
    "tags": []
   },
   "outputs": [
    {
     "output_type": "stream",
     "name": "stdout",
     "text": "File_Name                    Num_Variables    Num_Records\n--  -------------------------  ---------------  -------------\n 0  T1MD0568_ptaclm_py2020_Q1              255           8421\n 1  T1MD0568_ptarev_py2020_Q1               59          82623\n 2  T1MD0568_ptaprc_py2020_Q1               13           1640\n 3  T1MD0568_ptadgn_py2020_Q1               13          50417\n 4  T1MD0568_ptbphy_py2020_Q1              136         293380\n 5  T1MD0568_ptbdme_py2020_Q1              134          15505\n 6  T1MD0568_ptd_py2020_Q1                  21          75800\n 7  T1MD0568_bened_py2020_Q1               476           1687\n 8  T1MD0568_mds_py2020_Q1                 670            705\n 9  T1MD0568_oasis_py2020_Q1               595            663\n"
    }
   ],
   "source": [
    "print(tabulate(statFile_df, headers='keys'))"
   ]
  },
  {
   "cell_type": "code",
   "execution_count": 40,
   "metadata": {},
   "outputs": [],
   "source": [
    "df2 = statFile_df[\"File_Name\"].str.split(\"_\", expand=True).rename(columns={0:\"practice_id\",                                                                          1: \"file_type\",\n",
    " 2: \"year\",\n",
    " 3: \"quarter\"})"
   ]
  },
  {
   "cell_type": "code",
   "execution_count": 41,
   "metadata": {
    "tags": []
   },
   "outputs": [
    {
     "output_type": "stream",
     "name": "stdout",
     "text": "practice_id    file_type    year    quarter\n--  -------------  -----------  ------  ---------\n 0  T1MD0568       ptaclm       py2020  Q1\n 1  T1MD0568       ptarev       py2020  Q1\n 2  T1MD0568       ptaprc       py2020  Q1\n 3  T1MD0568       ptadgn       py2020  Q1\n 4  T1MD0568       ptbphy       py2020  Q1\n 5  T1MD0568       ptbdme       py2020  Q1\n 6  T1MD0568       ptd          py2020  Q1\n 7  T1MD0568       bened        py2020  Q1\n 8  T1MD0568       mds          py2020  Q1\n 9  T1MD0568       oasis        py2020  Q1\n"
    }
   ],
   "source": [
    "print(tabulate(df2, headers='keys'))"
   ]
  },
  {
   "cell_type": "code",
   "execution_count": 42,
   "metadata": {
    "tags": []
   },
   "outputs": [],
   "source": [
    "# print(statFile_df[\"Num_Records\"])\n",
    "df1 = statFile_df.drop(['Num_Variables'], axis=1)"
   ]
  },
  {
   "cell_type": "code",
   "execution_count": 43,
   "metadata": {},
   "outputs": [],
   "source": [
    "new_df = pd.concat([df1, df2], axis=1)"
   ]
  },
  {
   "cell_type": "code",
   "execution_count": 44,
   "metadata": {
    "tags": []
   },
   "outputs": [
    {
     "output_type": "stream",
     "name": "stdout",
     "text": "File_Name                    Num_Records  practice_id    file_type    year    quarter\n--  -------------------------  -------------  -------------  -----------  ------  ---------\n 0  T1MD0568_ptaclm_py2020_Q1           8421  T1MD0568       ptaclm       py2020  Q1\n 1  T1MD0568_ptarev_py2020_Q1          82623  T1MD0568       ptarev       py2020  Q1\n 2  T1MD0568_ptaprc_py2020_Q1           1640  T1MD0568       ptaprc       py2020  Q1\n 3  T1MD0568_ptadgn_py2020_Q1          50417  T1MD0568       ptadgn       py2020  Q1\n 4  T1MD0568_ptbphy_py2020_Q1         293380  T1MD0568       ptbphy       py2020  Q1\n 5  T1MD0568_ptbdme_py2020_Q1          15505  T1MD0568       ptbdme       py2020  Q1\n 6  T1MD0568_ptd_py2020_Q1             75800  T1MD0568       ptd          py2020  Q1\n 7  T1MD0568_bened_py2020_Q1            1687  T1MD0568       bened        py2020  Q1\n 8  T1MD0568_mds_py2020_Q1               705  T1MD0568       mds          py2020  Q1\n 9  T1MD0568_oasis_py2020_Q1             663  T1MD0568       oasis        py2020  Q1\n"
    }
   ],
   "source": [
    "print(tabulate(new_df, headers='keys'))"
   ]
  },
  {
   "cell_type": "code",
   "execution_count": null,
   "metadata": {},
   "outputs": [],
   "source": []
  }
 ]
}